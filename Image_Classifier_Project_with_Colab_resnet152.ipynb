{
  "nbformat": 4,
  "nbformat_minor": 0,
  "metadata": {
    "colab": {
      "name": "Image_Classifier_Project_with_Colab_resnet152.ipynb",
      "version": "0.3.2",
      "provenance": [],
      "collapsed_sections": [],
      "include_colab_link": true
    },
    "kernelspec": {
      "name": "python3",
      "display_name": "Python 3"
    },
    "accelerator": "GPU"
  },
  "cells": [
    {
      "cell_type": "markdown",
      "metadata": {
        "id": "view-in-github",
        "colab_type": "text"
      },
      "source": [
        "<a href=\"https://colab.research.google.com/github/wanlipu/pytorch_challenge/blob/master/Image_Classifier_Project_with_Colab_resnet152.ipynb\" target=\"_parent\"><img src=\"https://colab.research.google.com/assets/colab-badge.svg\" alt=\"Open In Colab\"/></a>"
      ]
    },
    {
      "metadata": {
        "id": "jL2s1BFvxqh_",
        "colab_type": "text"
      },
      "cell_type": "markdown",
      "source": [
        "## Mount google drive to colab"
      ]
    },
    {
      "metadata": {
        "id": "ue99mQjCMwnV",
        "colab_type": "code",
        "outputId": "1e958771-e37b-44aa-cca3-4f8005fde2d7",
        "colab": {
          "base_uri": "https://localhost:8080/",
          "height": 122
        }
      },
      "cell_type": "code",
      "source": [
        "from google.colab import drive\n",
        "drive.mount('/content/drive')"
      ],
      "execution_count": 1,
      "outputs": [
        {
          "output_type": "stream",
          "text": [
            "Go to this URL in a browser: https://accounts.google.com/o/oauth2/auth?client_id=947318989803-6bn6qk8qdgf4n4g3pfee6491hc0brc4i.apps.googleusercontent.com&redirect_uri=urn%3Aietf%3Awg%3Aoauth%3A2.0%3Aoob&scope=email%20https%3A%2F%2Fwww.googleapis.com%2Fauth%2Fdocs.test%20https%3A%2F%2Fwww.googleapis.com%2Fauth%2Fdrive%20https%3A%2F%2Fwww.googleapis.com%2Fauth%2Fdrive.photos.readonly%20https%3A%2F%2Fwww.googleapis.com%2Fauth%2Fpeopleapi.readonly&response_type=code\n",
            "\n",
            "Enter your authorization code:\n",
            "··········\n",
            "Mounted at /content/drive\n"
          ],
          "name": "stdout"
        }
      ]
    },
    {
      "metadata": {
        "id": "MoIywMqTS7HA",
        "colab_type": "code",
        "outputId": "c464cee2-69f2-4699-c72e-5db375e5b918",
        "colab": {
          "base_uri": "https://localhost:8080/",
          "height": 51
        }
      },
      "cell_type": "code",
      "source": [
        "!ls '/content/drive/My Drive'"
      ],
      "execution_count": 2,
      "outputs": [
        {
          "output_type": "stream",
          "text": [
            "'Colab Notebooks'   flower_data      'Untitled spreadsheet.gsheet'\n",
            " combined_test\t    Untitled0.ipynb\n"
          ],
          "name": "stdout"
        }
      ]
    },
    {
      "metadata": {
        "id": "2g9SExDfMutl",
        "colab_type": "text"
      },
      "cell_type": "markdown",
      "source": [
        "# Developing an AI application\n",
        "\n",
        "Going forward, AI algorithms will be incorporated into more and more everyday applications. For example, you might want to include an image classifier in a smart phone app. To do this, you'd use a deep learning model trained on hundreds of thousands of images as part of the overall application architecture. A large part of software development in the future will be using these types of models as common parts of applications. \n",
        "\n",
        "In this project, you'll train an image classifier to recognize different species of flowers. You can imagine using something like this in a phone app that tells you the name of the flower your camera is looking at. In practice you'd train this classifier, then export it for use in your application. We'll be using [this dataset](http://www.robots.ox.ac.uk/~vgg/data/flowers/102/index.html) of 102 flower categories, you can see a few examples below. \n",
        "\n",
        "<img src='/content/drive/My Drive/notebook_ims/Flowers.png' width=500px>\n",
        "  \n",
        "The project is broken down into multiple steps:\n",
        "\n",
        "* Load and preprocess the image dataset\n",
        "* Train the image classifier on your dataset\n",
        "* Use the trained classifier to predict image content\n",
        "\n",
        "We'll lead you through each part which you'll implement in Python.\n",
        "\n",
        "When you've completed this project, you'll have an application that can be trained on any set of labeled images. Here your network will be learning about flowers and end up as a command line application. But, what you do with your new skills depends on your imagination and effort in building a dataset. For example, imagine an app where you take a picture of a car, it tells you what the make and model is, then looks up information about it. Go build your own dataset and make something new.\n",
        "\n",
        "First up is importing the packages you'll need. It's good practice to keep all the imports at the beginning of your code. As you work through this notebook and find you need to import a package, make sure to add the import up here."
      ]
    },
    {
      "metadata": {
        "id": "B3G8VPdoyLuA",
        "colab_type": "text"
      },
      "cell_type": "markdown",
      "source": [
        "## Install PyTorch on colab and import packages"
      ]
    },
    {
      "metadata": {
        "id": "Y6iHYCkbwXUF",
        "colab_type": "code",
        "outputId": "d1e08421-ec33-4aa9-d95b-2ef438f8fcf4",
        "colab": {
          "base_uri": "https://localhost:8080/",
          "height": 530
        }
      },
      "cell_type": "code",
      "source": [
        "!pip install torch==0.4\n",
        "!pip install torchvision\n",
        "!pip install pillow==4.1.1\n",
        "%reload_ext autoreload\n",
        "%autoreload"
      ],
      "execution_count": 3,
      "outputs": [
        {
          "output_type": "stream",
          "text": [
            "Collecting torch==0.4\n",
            "\u001b[?25l  Downloading https://files.pythonhosted.org/packages/69/43/380514bd9663f1bf708abeb359b8b48d3fabb1c8e95bb3427a980a064c57/torch-0.4.0-cp36-cp36m-manylinux1_x86_64.whl (484.0MB)\n",
            "\u001b[K    100% |████████████████████████████████| 484.0MB 32kB/s \n",
            "tcmalloc: large alloc 1073750016 bytes == 0x5b4da000 @  0x7fa538c532a4 0x591a07 0x5b5d56 0x502e9a 0x506859 0x502209 0x502f3d 0x506859 0x504c28 0x502540 0x502f3d 0x506859 0x504c28 0x502540 0x502f3d 0x506859 0x504c28 0x502540 0x502f3d 0x507641 0x502209 0x502f3d 0x506859 0x504c28 0x502540 0x502f3d 0x507641 0x504c28 0x502540 0x502f3d 0x507641\n",
            "\u001b[?25hInstalling collected packages: torch\n",
            "Successfully installed torch-0.4.0\n",
            "Collecting torchvision\n",
            "\u001b[?25l  Downloading https://files.pythonhosted.org/packages/ca/0d/f00b2885711e08bd71242ebe7b96561e6f6d01fdb4b9dcf4d37e2e13c5e1/torchvision-0.2.1-py2.py3-none-any.whl (54kB)\n",
            "\u001b[K    100% |████████████████████████████████| 61kB 5.3MB/s \n",
            "\u001b[?25hRequirement already satisfied: six in /usr/local/lib/python3.6/dist-packages (from torchvision) (1.11.0)\n",
            "Collecting pillow>=4.1.1 (from torchvision)\n",
            "\u001b[?25l  Downloading https://files.pythonhosted.org/packages/85/5e/e91792f198bbc5a0d7d3055ad552bc4062942d27eaf75c3e2783cf64eae5/Pillow-5.4.1-cp36-cp36m-manylinux1_x86_64.whl (2.0MB)\n",
            "\u001b[K    100% |████████████████████████████████| 2.0MB 10.6MB/s \n",
            "\u001b[?25hRequirement already satisfied: numpy in /usr/local/lib/python3.6/dist-packages (from torchvision) (1.14.6)\n",
            "Requirement already satisfied: torch in /usr/local/lib/python3.6/dist-packages (from torchvision) (0.4.0)\n",
            "Installing collected packages: pillow, torchvision\n",
            "  Found existing installation: Pillow 4.0.0\n",
            "    Uninstalling Pillow-4.0.0:\n",
            "      Successfully uninstalled Pillow-4.0.0\n",
            "Successfully installed pillow-5.4.1 torchvision-0.2.1\n",
            "Collecting pillow==4.1.1\n",
            "\u001b[?25l  Downloading https://files.pythonhosted.org/packages/36/e5/88b3d60924a3f8476fa74ec086f5fbaba56dd6cee0d82845f883b6b6dd18/Pillow-4.1.1-cp36-cp36m-manylinux1_x86_64.whl (5.7MB)\n",
            "\u001b[K    100% |████████████████████████████████| 5.7MB 7.2MB/s \n",
            "\u001b[?25hRequirement already satisfied: olefile in /usr/local/lib/python3.6/dist-packages (from pillow==4.1.1) (0.46)\n",
            "Installing collected packages: pillow\n",
            "  Found existing installation: Pillow 5.4.1\n",
            "    Uninstalling Pillow-5.4.1:\n",
            "      Successfully uninstalled Pillow-5.4.1\n",
            "Successfully installed pillow-4.1.1\n"
          ],
          "name": "stdout"
        }
      ]
    },
    {
      "metadata": {
        "id": "IfeFMzftjSoy",
        "colab_type": "code",
        "colab": {}
      },
      "cell_type": "code",
      "source": [
        "# Imports here\n",
        "%matplotlib inline\n",
        "%config InlineBackend.figure_format = 'retina'\n",
        "\n",
        "import matplotlib.pyplot as plt\n",
        "import matplotlib.image as mpimg\n",
        "\n",
        "from google.colab import files\n",
        "\n",
        "import numpy as np\n",
        "\n",
        "import torch\n",
        "from torch import nn\n",
        "from torch import optim\n",
        "import torch.nn.functional as F\n",
        "from torchvision import datasets, transforms, models"
      ],
      "execution_count": 0,
      "outputs": []
    },
    {
      "metadata": {
        "id": "HnBhJzuGjSpK",
        "colab_type": "text"
      },
      "cell_type": "markdown",
      "source": [
        "## Load the data\n",
        "\n",
        "Here you'll use `torchvision` to load the data ([documentation](http://pytorch.org/docs/0.3.0/torchvision/index.html)). You can [download the data here](https://s3.amazonaws.com/content.udacity-data.com/courses/nd188/flower_data.zip). The dataset is split into two parts, training and validation. For the training, you'll want to apply transformations such as random scaling, cropping, and flipping. This will help the network generalize leading to better performance. If you use a pre-trained network, you'll also need to make sure the input data is resized to 224x224 pixels as required by the networks.\n",
        "\n",
        "The validation set is used to measure the model's performance on data it hasn't seen yet. For this you don't want any scaling or rotation transformations, but you'll need to resize then crop the images to the appropriate size.\n",
        "\n",
        "The pre-trained networks available from `torchvision` were trained on the ImageNet dataset where each color channel was normalized separately. For both sets you'll need to normalize the means and standard deviations of the images to what the network expects. For the means, it's `[0.485, 0.456, 0.406]` and for the standard deviations `[0.229, 0.224, 0.225]`, calculated from the ImageNet images.  These values will shift each color channel to be centered at 0 and range from -1 to 1."
      ]
    },
    {
      "metadata": {
        "id": "8mzPlm4DrBV-",
        "colab_type": "code",
        "colab": {}
      },
      "cell_type": "code",
      "source": [
        "# !wget https://s3.amazonaws.com/content.udacity-data.com/courses/nd188/flower_data.zip\n",
        "# !wget -O google_test_data.zip \"https://www.dropbox.com/s/3zmf1kq58o909rq/google_test_data.zip?dl=1\"\n",
        "\n",
        "# !unzip -qq flower_data.zip\n",
        "# !unzip -qq google_test_data.zip -d ./google_data"
      ],
      "execution_count": 0,
      "outputs": []
    },
    {
      "metadata": {
        "id": "d7mi3txOjSpQ",
        "colab_type": "code",
        "colab": {}
      },
      "cell_type": "code",
      "source": [
        "# data_dir = 'flower_data'\n",
        "# train_dir = data_dir + '/train'\n",
        "# valid_dir = data_dir + '/valid'"
      ],
      "execution_count": 0,
      "outputs": []
    },
    {
      "metadata": {
        "id": "Bnm99aaWO_u2",
        "colab_type": "code",
        "colab": {}
      },
      "cell_type": "code",
      "source": [
        "data_dir = '/content/drive/My Drive/flower_data'\n",
        "train_dir = data_dir + '/train'\n",
        "valid_dir = data_dir + '/valid'"
      ],
      "execution_count": 0,
      "outputs": []
    },
    {
      "metadata": {
        "id": "yNLUTQyQwqfM",
        "colab_type": "code",
        "colab": {}
      },
      "cell_type": "code",
      "source": [
        "# TODO: Define transforms for the training data and testing data\n",
        "train_transforms = transforms.Compose([transforms.RandomRotation(30),\n",
        "                                       transforms.RandomResizedCrop(224),\n",
        "                                       transforms.RandomHorizontalFlip(),\n",
        "                                       transforms.RandomVerticalFlip(),\n",
        "                                       transforms.ToTensor(),\n",
        "                                       transforms.Normalize([0.485, 0.456, 0.406],\n",
        "                                                            [0.229, 0.224, 0.225])])\n",
        "\n",
        "valid_transforms = transforms.Compose([transforms.Resize(255),\n",
        "                                      transforms.CenterCrop(224),\n",
        "                                      transforms.ToTensor(),\n",
        "                                      transforms.Normalize([0.485, 0.456, 0.406],\n",
        "                                                           [0.229, 0.224, 0.225])])\n",
        "\n",
        "# Pass transforms in here, then run the next cell to see how the transforms look\n",
        "train_data = datasets.ImageFolder(train_dir, transform=train_transforms)\n",
        "valid_data = datasets.ImageFolder(valid_dir, transform=valid_transforms)\n",
        "\n",
        "trainloader = torch.utils.data.DataLoader(train_data, batch_size=64, shuffle=True)\n",
        "validloader = torch.utils.data.DataLoader(valid_data, batch_size=64)"
      ],
      "execution_count": 0,
      "outputs": []
    },
    {
      "metadata": {
        "id": "McRMxrH0jSp6",
        "colab_type": "text"
      },
      "cell_type": "markdown",
      "source": [
        "### Label mapping\n",
        "\n",
        "You'll also need to load in a mapping from category label to category name. You can find this in the file `cat_to_name.json`. It's a JSON object which you can read in with the [`json` module](https://docs.python.org/2/library/json.html). This will give you a dictionary mapping the integer encoded categories to the actual names of the flowers."
      ]
    },
    {
      "metadata": {
        "id": "vvZBCVidjSp-",
        "colab_type": "code",
        "colab": {}
      },
      "cell_type": "code",
      "source": [
        "import json\n",
        "\n",
        "with open('/content/drive/My Drive/Colab Notebooks/cat_to_name.json', 'r') as f:\n",
        "    cat_to_name = json.load(f)"
      ],
      "execution_count": 0,
      "outputs": []
    },
    {
      "metadata": {
        "id": "uUc2cUpkjSqL",
        "colab_type": "text"
      },
      "cell_type": "markdown",
      "source": [
        "# Building and training the classifier\n",
        "\n",
        "Now that the data is ready, it's time to build and train the classifier. As usual, you should use one of the pretrained models from `torchvision.models` to get the image features. Build and train a new feed-forward classifier using those features.\n",
        "\n",
        "We're going to leave this part up to you. If you want to talk through it with someone, chat with your fellow students! You can also ask questions on the forums or join the instructors in office hours.\n",
        "\n",
        "Refer to [the rubric](https://review.udacity.com/#!/rubrics/1663/view) for guidance on successfully completing this section. Things you'll need to do:\n",
        "\n",
        "* Load a [pre-trained network](http://pytorch.org/docs/master/torchvision/models.html) (If you need a starting point, the VGG networks work great and are straightforward to use)\n",
        "* Define a new, untrained feed-forward network as a classifier, using ReLU activations and dropout\n",
        "* Train the classifier layers using backpropagation using the pre-trained network to get the features\n",
        "* Track the loss and accuracy on the validation set to determine the best hyperparameters\n",
        "\n",
        "We've left a cell open for you below, but use as many as you need. Our advice is to break the problem up into smaller parts you can run separately. Check that each part is doing what you expect, then move on to the next. You'll likely find that as you work through each part, you'll need to go back and modify your previous code. This is totally normal!\n",
        "\n",
        "When training make sure you're updating only the weights of the feed-forward network. You should be able to get the validation accuracy above 70% if you build everything right. Make sure to try different hyperparameters (learning rate, units in the classifier, epochs, etc) to find the best model. Save those hyperparameters to use as default values in the next part of the project."
      ]
    },
    {
      "metadata": {
        "id": "H7M1VfZ8jSqg",
        "colab_type": "text"
      },
      "cell_type": "markdown",
      "source": [
        "## Save the checkpoint\n",
        "\n",
        "Now that your network is trained, save the model so you can load it later for making predictions. You probably want to save other things such as the mapping of classes to indices which you get from one of the image datasets: `image_datasets['train'].class_to_idx`. You can attach this to the model as an attribute which makes inference easier later on.\n",
        "\n",
        "```model.class_to_idx = image_datasets['train'].class_to_idx```\n",
        "\n",
        "Remember that you'll want to completely rebuild the model later so you can use it for inference. Make sure to include any information you need in the checkpoint. If you want to load the model and keep training, you'll want to save the number of epochs as well as the optimizer state, `optimizer.state_dict`. You'll likely want to use this trained model in the next part of the project, so best to save it now."
      ]
    },
    {
      "metadata": {
        "id": "mNP5gnvPX9VD",
        "colab_type": "code",
        "colab": {}
      },
      "cell_type": "code",
      "source": [
        "from torch.optim import lr_scheduler\n",
        "\n",
        "\n",
        "# Use GPU if it's available\n",
        "device = torch.device(\"cuda\" if torch.cuda.is_available() else \"cpu\")\n",
        "\n",
        "model = models.resnet152(pretrained=True)\n",
        "\n",
        "# Freeze parameters so we don't backprop through them\n",
        "for param in model.parameters():\n",
        "    param.requires_grad = False\n",
        "    \n",
        "model.fc = nn.Sequential(nn.Linear(2048, 1024),\n",
        "                                 nn.ReLU(),\n",
        "                                 nn.BatchNorm1d(1024),\n",
        "                                 nn.Dropout(0.3),\n",
        "                                 nn.Linear(1024, 102))\n",
        "\n",
        "criterion = nn.CrossEntropyLoss()\n",
        "\n",
        "# Only train the classifier parameters, feature parameters are frozen\n",
        "optimizer = optim.Adam(model.fc.parameters(), lr=0.001)\n",
        "\n",
        "# Decay LR by a factor of 0.1 every 7 epochs\n",
        "exp_lr_scheduler = lr_scheduler.StepLR(optimizer, step_size=7)\n",
        "\n",
        "model.to(device);\n"
      ],
      "execution_count": 0,
      "outputs": []
    },
    {
      "metadata": {
        "id": "MEiS9vaSjSqp",
        "colab_type": "code",
        "colab": {}
      },
      "cell_type": "code",
      "source": [
        "# TODO: Save the checkpoint \n",
        "# number of epochs to train the model\n",
        "n_epochs = 100\n",
        "\n",
        "# initialize tracker for minimum validation loss\n",
        "valid_loss_min = np.Inf # set initial \"min\" to infinity\n",
        "model_version = 0\n",
        "\n",
        "for epoch in range(n_epochs):\n",
        "    # monitor training loss\n",
        "    train_loss = 0.0\n",
        "    valid_loss = 0.0\n",
        "    \n",
        "    ###################\n",
        "    # train the model #\n",
        "    ###################\n",
        "    exp_lr_scheduler.step() # set learning rate based on scheduler\n",
        "    model.train() # prep model for training\n",
        "    for data, target in trainloader:\n",
        "        data, target = data.to(device), target.to(device)\n",
        "        # clear the gradients of all optimized variables\n",
        "        optimizer.zero_grad()\n",
        "        # forward pass: compute predicted outputs by passing inputs to the model\n",
        "        output = model(data)\n",
        "        # calculate the loss\n",
        "        loss = criterion(output, target)\n",
        "        # backward pass: compute gradient of the loss with respect to model parameters\n",
        "        loss.backward()\n",
        "        # perform a single optimization step (parameter update)\n",
        "        optimizer.step()\n",
        "        # update running training loss\n",
        "        train_loss += loss.item()*data.size(0)\n",
        "        \n",
        "    ######################    \n",
        "    # validate the model #\n",
        "    ######################\n",
        "    model.eval() # prep model for evaluation\n",
        "    accuracy = 0\n",
        "    for data, target in validloader:\n",
        "        data, target = data.to(device), target.to(device)\n",
        "        # forward pass: compute predicted outputs by passing inputs to the model\n",
        "        output = model(data)\n",
        "        # calculate the loss\n",
        "        loss = criterion(output, target)\n",
        "        # update running validation loss \n",
        "        valid_loss += loss.item()*data.size(0)\n",
        "        \n",
        "        ps = torch.exp(output)\n",
        "        top_p, top_class = ps.topk(1, dim=1)\n",
        "        equals = top_class == target.view(*top_class.shape)\n",
        "        accuracy += torch.mean(equals.type(torch.FloatTensor)).item()\n",
        "        \n",
        "    # print training/validation statistics \n",
        "    # calculate average loss over an epoch\n",
        "    train_loss = train_loss/len(trainloader.dataset)\n",
        "    valid_loss = valid_loss/len(validloader.dataset)\n",
        "    accuracy = accuracy/len(validloader)\n",
        "    \n",
        "    print('Epoch: {} \\tTraining Loss: {:.6f} \\tValidation Loss: {:.6f} \\tValidation Accuracy: {:.6f}'.format(\n",
        "        epoch+1, \n",
        "        train_loss,\n",
        "        valid_loss,\n",
        "        accuracy\n",
        "        ))\n",
        "    \n",
        "    # save model if validation loss has decreased\n",
        "    if valid_loss <= valid_loss_min:\n",
        "        print('Validation loss decreased ({:.6f} --> {:.6f}).  Saving model ...'.format(\n",
        "        valid_loss_min,\n",
        "        valid_loss))\n",
        "        torch.save(model.state_dict(), '/content/drive/My Drive/Colab Notebooks/classifier_resnet152_v1.pt')\n",
        "        model_version += 1\n",
        "        valid_loss_min = valid_loss"
      ],
      "execution_count": 0,
      "outputs": []
    },
    {
      "metadata": {
        "colab_type": "text",
        "id": "DIDFyt3pZEoz"
      },
      "cell_type": "markdown",
      "source": [
        "## Fine Tuning model by unfreezing layers"
      ]
    },
    {
      "metadata": {
        "id": "rSzV0ApkeApX",
        "colab_type": "code",
        "colab": {}
      },
      "cell_type": "code",
      "source": [
        "data_dir = 'flower_data'\n",
        "train_dir = data_dir + '/train'\n",
        "valid_dir = data_dir + '/valid'"
      ],
      "execution_count": 0,
      "outputs": []
    },
    {
      "metadata": {
        "id": "Xamh226weGtR",
        "colab_type": "code",
        "colab": {}
      },
      "cell_type": "code",
      "source": [
        "# TODO: Define transforms for the training data and testing data\n",
        "train_transforms = transforms.Compose([transforms.RandomRotation(30),\n",
        "                                       transforms.RandomResizedCrop(224),\n",
        "                                       transforms.RandomHorizontalFlip(),\n",
        "                                       transforms.RandomVerticalFlip(),\n",
        "                                       transforms.ToTensor(),\n",
        "                                       transforms.Normalize([0.485, 0.456, 0.406],\n",
        "                                                            [0.229, 0.224, 0.225])])\n",
        "\n",
        "valid_transforms = transforms.Compose([transforms.Resize(255),\n",
        "                                      transforms.CenterCrop(224),\n",
        "                                      transforms.ToTensor(),\n",
        "                                      transforms.Normalize([0.485, 0.456, 0.406],\n",
        "                                                           [0.229, 0.224, 0.225])])\n",
        "\n",
        "# Pass transforms in here, then run the next cell to see how the transforms look\n",
        "train_data = datasets.ImageFolder(train_dir, transform=train_transforms)\n",
        "valid_data = datasets.ImageFolder(valid_dir, transform=valid_transforms)\n",
        "\n",
        "trainloader = torch.utils.data.DataLoader(train_data, batch_size=16, shuffle=True)\n",
        "validloader = torch.utils.data.DataLoader(valid_data, batch_size=16)"
      ],
      "execution_count": 0,
      "outputs": []
    },
    {
      "metadata": {
        "id": "8pfzRHe-Uzj7",
        "colab_type": "code",
        "colab": {}
      },
      "cell_type": "code",
      "source": [
        "from torch.optim import lr_scheduler\n",
        "\n",
        "# Use GPU if it's available\n",
        "device = torch.device(\"cuda\" if torch.cuda.is_available() else \"cpu\")\n",
        "\n",
        "model = models.resnet152(pretrained=False)\n",
        "\n",
        "# # Freeze parameters so we don't backprop through them\n",
        "# for param in model.parameters():\n",
        "#     param.requires_grad = False\n",
        "    \n",
        "model.fc = nn.Sequential(nn.Linear(2048, 1024),\n",
        "                                 nn.ReLU(),\n",
        "                                 nn.BatchNorm1d(1024),\n",
        "                                 nn.Dropout(0.3),\n",
        "                                 nn.Linear(1024, 102))\n",
        "\n",
        "# load model parameters\n",
        "# checkpoint = torch.load('/content/drive/My Drive/Colab Notebooks/classifier_resnet152_v1.pt')\n",
        "checkpoint = torch.load('/content/drive/My Drive/Colab Notebooks/classifier_resnet152_v1_ft_v3.pt')\n",
        "model.load_state_dict(checkpoint)\n",
        "\n",
        "# Freeze first three layers parameters so we don't backprop through them\n",
        "ct = 0\n",
        "for child in model.children():\n",
        "    ct+= 1\n",
        "    if ct < 8:\n",
        "        for param in child.parameters():\n",
        "            param.requires_grad = False\n",
        "\n",
        "\n",
        "criterion = nn.CrossEntropyLoss()\n",
        "\n",
        "# Only train the unfrozen parameters, feature parameters are frozen\n",
        "optimizer = optim.Adam(filter(lambda p: p.requires_grad, model.parameters()), lr=0.000005)\n",
        "\n",
        "# Decay LR by a factor of 0.1 every 7 epochs\n",
        "# exp_lr_scheduler = lr_scheduler.StepLR(optimizer, step_size = 7, gamma = 0.2)\n",
        "\n",
        "pla_lr_scheduler = lr_scheduler.ReduceLROnPlateau(optimizer, mode='min', patience=5)\n",
        "\n",
        "model.to(device);\n"
      ],
      "execution_count": 0,
      "outputs": []
    },
    {
      "metadata": {
        "id": "2h7c2s98U5YW",
        "colab_type": "code",
        "colab": {}
      },
      "cell_type": "code",
      "source": [
        "# TODO: Save the checkpoint \n",
        "# number of epochs to train the model\n",
        "n_epochs = 100\n",
        "\n",
        "# initialize tracker for minimum validation loss\n",
        "valid_loss_min = np.Inf # set initial \"min\" to infinity\n",
        "model_version = 0\n",
        "\n",
        "for epoch in range(n_epochs):\n",
        "    # monitor training loss\n",
        "    train_loss = 0.0\n",
        "    valid_loss = 0.0\n",
        "    \n",
        "    ###################\n",
        "    # train the model #\n",
        "    ###################\n",
        "#     exp_lr_scheduler.step()\n",
        "    model.train() # prep model for training\n",
        "    for data, target in trainloader:\n",
        "        data, target = data.to(device), target.to(device)\n",
        "        # clear the gradients of all optimized variables\n",
        "        optimizer.zero_grad()\n",
        "        # forward pass: compute predicted outputs by passing inputs to the model\n",
        "        output = model(data)\n",
        "        # calculate the loss\n",
        "        loss = criterion(output, target)\n",
        "        # backward pass: compute gradient of the loss with respect to model parameters\n",
        "        loss.backward()\n",
        "        # perform a single optimization step (parameter update)\n",
        "        optimizer.step()\n",
        "        # update running training loss\n",
        "        train_loss += loss.item()*data.size(0)\n",
        "        \n",
        "    ######################    \n",
        "    # validate the model #\n",
        "    ######################\n",
        "    model.eval() # prep model for evaluation\n",
        "    accuracy = 0\n",
        "    for data, target in validloader:\n",
        "        data, target = data.to(device), target.to(device)\n",
        "        # forward pass: compute predicted outputs by passing inputs to the model\n",
        "        output = model(data)\n",
        "        # calculate the loss\n",
        "        loss = criterion(output, target)\n",
        "        # update running validation loss \n",
        "        valid_loss += loss.item()*data.size(0)\n",
        "        \n",
        "        ps = torch.exp(output)\n",
        "        top_p, top_class = ps.topk(1, dim=1)\n",
        "        equals = top_class == target.view(*top_class.shape)\n",
        "        accuracy += torch.mean(equals.type(torch.FloatTensor)).item()\n",
        "        \n",
        "    # print training/validation statistics \n",
        "    # calculate average loss over an epoch\n",
        "    train_loss = train_loss/len(trainloader.dataset)\n",
        "    valid_loss = valid_loss/len(validloader.dataset)\n",
        "    accuracy = accuracy/len(validloader)\n",
        "    \n",
        "    print('Epoch: {} \\tTraining Loss: {:.6f} \\tValidation Loss: {:.6f} \\tValidation Accuracy: {:.6f}'.format(\n",
        "        epoch+1, \n",
        "        train_loss,\n",
        "        valid_loss,\n",
        "        accuracy\n",
        "        ))\n",
        "    \n",
        "    # save model if validation loss has decreased\n",
        "    if valid_loss <= valid_loss_min:\n",
        "        print('Validation loss decreased ({:.6f} --> {:.6f}).  Saving model ...'.format(\n",
        "        valid_loss_min,\n",
        "        valid_loss))\n",
        "        torch.save(model.state_dict(), '/content/drive/My Drive/Colab Notebooks/classifier_resnet152_v1_ft_v3.pt')\n",
        "        model_version += 1\n",
        "        valid_loss_min = valid_loss\n",
        "        \n",
        "    pla_lr_scheduler.step(valid_loss) # set learning rate based on scheduler"
      ],
      "execution_count": 0,
      "outputs": []
    },
    {
      "metadata": {
        "id": "vflvpreqUWK4",
        "colab_type": "text"
      },
      "cell_type": "markdown",
      "source": [
        "## CosineAnnealingLR scheduler to further optimize"
      ]
    },
    {
      "metadata": {
        "id": "qKwTYsYr2Lrc",
        "colab_type": "code",
        "colab": {}
      },
      "cell_type": "code",
      "source": [
        "from torch.optim import lr_scheduler\n",
        "\n",
        "# Use GPU if it's available\n",
        "device = torch.device(\"cuda\" if torch.cuda.is_available() else \"cpu\")\n",
        "\n",
        "model = models.resnet152(pretrained=False)\n",
        "\n",
        "# # Freeze parameters so we don't backprop through them\n",
        "# for param in model.parameters():\n",
        "#     param.requires_grad = False\n",
        "    \n",
        "model.fc = nn.Sequential(nn.Linear(2048, 1024),\n",
        "                                 nn.ReLU(),\n",
        "                                 nn.BatchNorm1d(1024),\n",
        "                                 nn.Dropout(0.3),\n",
        "                                 nn.Linear(1024, 102))\n",
        "\n",
        "# load model parameters\n",
        "# checkpoint = torch.load('/content/drive/My Drive/Colab Notebooks/classifier_resnet152_v1.pt')\n",
        "checkpoint = torch.load('/content/drive/My Drive/Colab Notebooks/classifier_resnet152_v1_ft_v5_0.992788.pt')\n",
        "model.load_state_dict(checkpoint)\n",
        "\n",
        "# Freeze first three layers parameters so we don't backprop through them\n",
        "ct = 0\n",
        "for child in model.children():\n",
        "    ct+= 1\n",
        "    if ct < 8:\n",
        "        for param in child.parameters():\n",
        "            param.requires_grad = False\n",
        "\n",
        "\n",
        "criterion = nn.CrossEntropyLoss()\n",
        "\n",
        "# Only train the unfrozen parameters, feature parameters are frozen\n",
        "optimizer = optim.Adam(filter(lambda p: p.requires_grad, model.parameters()), lr=0.0001)\n",
        "\n",
        "# Decay LR by a factor of 0.1 every 7 epochs\n",
        "# exp_lr_scheduler = lr_scheduler.StepLR(optimizer, step_size = 7, gamma = 0.2)\n",
        "\n",
        "ca_lr_scheduler = lr_scheduler.CosineAnnealingLR(optimizer, T_max=5)\n",
        "\n",
        "model.to(device);\n"
      ],
      "execution_count": 0,
      "outputs": []
    },
    {
      "metadata": {
        "id": "n2de0DpP2PsB",
        "colab_type": "code",
        "colab": {
          "base_uri": "https://localhost:8080/",
          "height": 4403
        },
        "outputId": "9dc6fd65-6fe8-4c11-990a-8e564e76da67"
      },
      "cell_type": "code",
      "source": [
        "# TODO: Save the checkpoint \n",
        "# number of epochs to train the model\n",
        "n_epochs = 150\n",
        "\n",
        "# initialize tracker for minimum validation loss\n",
        "valid_loss_min = np.Inf # set initial \"min\" to infinity\n",
        "model_version = 0\n",
        "\n",
        "for epoch in range(n_epochs):\n",
        "    # monitor training loss\n",
        "    train_loss = 0.0\n",
        "    valid_loss = 0.0\n",
        "    \n",
        "    ###################\n",
        "    # train the model #\n",
        "    ###################\n",
        "#     exp_lr_scheduler.step()\n",
        "    ca_lr_scheduler.step()\n",
        "    model.train() # prep model for training\n",
        "    for data, target in trainloader:\n",
        "        data, target = data.to(device), target.to(device)\n",
        "        # clear the gradients of all optimized variables\n",
        "        optimizer.zero_grad()\n",
        "        # forward pass: compute predicted outputs by passing inputs to the model\n",
        "        output = model(data)\n",
        "        # calculate the loss\n",
        "        loss = criterion(output, target)\n",
        "        # backward pass: compute gradient of the loss with respect to model parameters\n",
        "        loss.backward()\n",
        "        # perform a single optimization step (parameter update)\n",
        "        optimizer.step()\n",
        "        # update running training loss\n",
        "        train_loss += loss.item()*data.size(0)\n",
        "        \n",
        "    ######################    \n",
        "    # validate the model #\n",
        "    ######################\n",
        "    model.eval() # prep model for evaluation\n",
        "    accuracy = 0\n",
        "    for data, target in validloader:\n",
        "        data, target = data.to(device), target.to(device)\n",
        "        # forward pass: compute predicted outputs by passing inputs to the model\n",
        "        output = model(data)\n",
        "        # calculate the loss\n",
        "        loss = criterion(output, target)\n",
        "        # update running validation loss \n",
        "        valid_loss += loss.item()*data.size(0)\n",
        "        \n",
        "        ps = torch.exp(output)\n",
        "        top_p, top_class = ps.topk(1, dim=1)\n",
        "        equals = top_class == target.view(*top_class.shape)\n",
        "        accuracy += torch.mean(equals.type(torch.FloatTensor)).item()\n",
        "        \n",
        "    # print training/validation statistics \n",
        "    # calculate average loss over an epoch\n",
        "    train_loss = train_loss/len(trainloader.dataset)\n",
        "    valid_loss = valid_loss/len(validloader.dataset)\n",
        "    accuracy = accuracy/len(validloader)\n",
        "    \n",
        "    print('Epoch: {} \\tTraining Loss: {:.6f} \\tValidation Loss: {:.6f} \\tValidation Accuracy: {:.6f}'.format(\n",
        "        epoch+1, \n",
        "        train_loss,\n",
        "        valid_loss,\n",
        "        accuracy\n",
        "        ))\n",
        "    \n",
        "    # save model if validation loss has decreased\n",
        "    if valid_loss <= valid_loss_min or accuracy > 0.99:\n",
        "        print('Validation loss decreased ({:.6f} --> {:.6f}).  Saving model ...'.format(\n",
        "        valid_loss_min,\n",
        "        valid_loss))\n",
        "        torch.save(model.state_dict(), '/content/drive/My Drive/Colab Notebooks/classifier_resnet152_v1_ft_v5_'+str(round(valid_loss, 6))+'_'+str(round(accuracy, 6))+'.pt')\n",
        "        model_version += 1\n",
        "        valid_loss_min = valid_loss\n",
        "        \n",
        "#     pla_lr_scheduler.step(valid_loss) # set learning rate based on scheduler"
      ],
      "execution_count": 14,
      "outputs": [
        {
          "output_type": "stream",
          "text": [
            "Epoch: 1 \tTraining Loss: 0.110423 \tValidation Loss: 0.081744 \tValidation Accuracy: 0.984375\n",
            "Validation loss decreased (inf --> 0.081744).  Saving model ...\n",
            "Epoch: 2 \tTraining Loss: 0.105953 \tValidation Loss: 0.058608 \tValidation Accuracy: 0.993990\n",
            "Validation loss decreased (0.081744 --> 0.058608).  Saving model ...\n",
            "Epoch: 3 \tTraining Loss: 0.101145 \tValidation Loss: 0.066458 \tValidation Accuracy: 0.985577\n",
            "Epoch: 4 \tTraining Loss: 0.077447 \tValidation Loss: 0.064130 \tValidation Accuracy: 0.989183\n",
            "Epoch: 5 \tTraining Loss: 0.079357 \tValidation Loss: 0.061978 \tValidation Accuracy: 0.992788\n",
            "Validation loss decreased (0.058608 --> 0.061978).  Saving model ...\n",
            "Epoch: 6 \tTraining Loss: 0.065699 \tValidation Loss: 0.061879 \tValidation Accuracy: 0.991587\n",
            "Validation loss decreased (0.061978 --> 0.061879).  Saving model ...\n",
            "Epoch: 7 \tTraining Loss: 0.068829 \tValidation Loss: 0.058012 \tValidation Accuracy: 0.992788\n",
            "Validation loss decreased (0.061879 --> 0.058012).  Saving model ...\n",
            "Epoch: 8 \tTraining Loss: 0.065141 \tValidation Loss: 0.062659 \tValidation Accuracy: 0.992788\n",
            "Validation loss decreased (0.058012 --> 0.062659).  Saving model ...\n",
            "Epoch: 9 \tTraining Loss: 0.093810 \tValidation Loss: 0.071382 \tValidation Accuracy: 0.987981\n",
            "Epoch: 10 \tTraining Loss: 0.106692 \tValidation Loss: 0.079655 \tValidation Accuracy: 0.986779\n",
            "Epoch: 11 \tTraining Loss: 0.097751 \tValidation Loss: 0.066128 \tValidation Accuracy: 0.983173\n",
            "Epoch: 12 \tTraining Loss: 0.109333 \tValidation Loss: 0.081902 \tValidation Accuracy: 0.984375\n",
            "Epoch: 13 \tTraining Loss: 0.080242 \tValidation Loss: 0.056411 \tValidation Accuracy: 0.990385\n",
            "Validation loss decreased (0.062659 --> 0.056411).  Saving model ...\n",
            "Epoch: 14 \tTraining Loss: 0.080622 \tValidation Loss: 0.059420 \tValidation Accuracy: 0.986779\n",
            "Epoch: 15 \tTraining Loss: 0.065528 \tValidation Loss: 0.056134 \tValidation Accuracy: 0.990385\n",
            "Validation loss decreased (0.056411 --> 0.056134).  Saving model ...\n",
            "Epoch: 16 \tTraining Loss: 0.061495 \tValidation Loss: 0.052491 \tValidation Accuracy: 0.991587\n",
            "Validation loss decreased (0.056134 --> 0.052491).  Saving model ...\n",
            "Epoch: 17 \tTraining Loss: 0.058865 \tValidation Loss: 0.055386 \tValidation Accuracy: 0.989183\n",
            "Epoch: 18 \tTraining Loss: 0.053954 \tValidation Loss: 0.063246 \tValidation Accuracy: 0.990385\n",
            "Validation loss decreased (0.052491 --> 0.063246).  Saving model ...\n",
            "Epoch: 19 \tTraining Loss: 0.078759 \tValidation Loss: 0.067501 \tValidation Accuracy: 0.985577\n",
            "Epoch: 20 \tTraining Loss: 0.089931 \tValidation Loss: 0.073606 \tValidation Accuracy: 0.986779\n",
            "Epoch: 21 \tTraining Loss: 0.113643 \tValidation Loss: 0.057383 \tValidation Accuracy: 0.989183\n",
            "Validation loss decreased (0.063246 --> 0.057383).  Saving model ...\n",
            "Epoch: 22 \tTraining Loss: 0.085898 \tValidation Loss: 0.065732 \tValidation Accuracy: 0.987981\n",
            "Epoch: 23 \tTraining Loss: 0.088238 \tValidation Loss: 0.051781 \tValidation Accuracy: 0.992788\n",
            "Validation loss decreased (0.057383 --> 0.051781).  Saving model ...\n",
            "Epoch: 24 \tTraining Loss: 0.068963 \tValidation Loss: 0.048025 \tValidation Accuracy: 0.991587\n",
            "Validation loss decreased (0.051781 --> 0.048025).  Saving model ...\n",
            "Epoch: 25 \tTraining Loss: 0.058338 \tValidation Loss: 0.045784 \tValidation Accuracy: 0.992788\n",
            "Validation loss decreased (0.048025 --> 0.045784).  Saving model ...\n",
            "Epoch: 26 \tTraining Loss: 0.063613 \tValidation Loss: 0.047735 \tValidation Accuracy: 0.990385\n",
            "Validation loss decreased (0.045784 --> 0.047735).  Saving model ...\n",
            "Epoch: 27 \tTraining Loss: 0.054988 \tValidation Loss: 0.045902 \tValidation Accuracy: 0.995192\n",
            "Validation loss decreased (0.047735 --> 0.045902).  Saving model ...\n",
            "Epoch: 28 \tTraining Loss: 0.060414 \tValidation Loss: 0.048763 \tValidation Accuracy: 0.992788\n",
            "Validation loss decreased (0.045902 --> 0.048763).  Saving model ...\n",
            "Epoch: 29 \tTraining Loss: 0.074365 \tValidation Loss: 0.061093 \tValidation Accuracy: 0.991587\n",
            "Validation loss decreased (0.048763 --> 0.061093).  Saving model ...\n",
            "Epoch: 30 \tTraining Loss: 0.089445 \tValidation Loss: 0.051867 \tValidation Accuracy: 0.992788\n",
            "Validation loss decreased (0.061093 --> 0.051867).  Saving model ...\n",
            "Epoch: 31 \tTraining Loss: 0.083548 \tValidation Loss: 0.073248 \tValidation Accuracy: 0.981971\n",
            "Epoch: 32 \tTraining Loss: 0.094620 \tValidation Loss: 0.087422 \tValidation Accuracy: 0.984375\n",
            "Epoch: 33 \tTraining Loss: 0.080591 \tValidation Loss: 0.059537 \tValidation Accuracy: 0.990385\n",
            "Validation loss decreased (0.051867 --> 0.059537).  Saving model ...\n",
            "Epoch: 34 \tTraining Loss: 0.075554 \tValidation Loss: 0.057227 \tValidation Accuracy: 0.990385\n",
            "Validation loss decreased (0.059537 --> 0.057227).  Saving model ...\n",
            "Epoch: 35 \tTraining Loss: 0.055116 \tValidation Loss: 0.058986 \tValidation Accuracy: 0.987981\n",
            "Epoch: 36 \tTraining Loss: 0.053585 \tValidation Loss: 0.059632 \tValidation Accuracy: 0.987981\n",
            "Epoch: 37 \tTraining Loss: 0.061255 \tValidation Loss: 0.059423 \tValidation Accuracy: 0.990385\n",
            "Validation loss decreased (0.057227 --> 0.059423).  Saving model ...\n",
            "Epoch: 38 \tTraining Loss: 0.060009 \tValidation Loss: 0.059097 \tValidation Accuracy: 0.990385\n",
            "Validation loss decreased (0.059423 --> 0.059097).  Saving model ...\n",
            "Epoch: 39 \tTraining Loss: 0.063430 \tValidation Loss: 0.056904 \tValidation Accuracy: 0.991587\n",
            "Validation loss decreased (0.059097 --> 0.056904).  Saving model ...\n",
            "Epoch: 40 \tTraining Loss: 0.079568 \tValidation Loss: 0.069801 \tValidation Accuracy: 0.987981\n",
            "Epoch: 41 \tTraining Loss: 0.094054 \tValidation Loss: 0.065625 \tValidation Accuracy: 0.991587\n",
            "Validation loss decreased (0.056904 --> 0.065625).  Saving model ...\n",
            "Epoch: 42 \tTraining Loss: 0.072949 \tValidation Loss: 0.065070 \tValidation Accuracy: 0.989183\n",
            "Validation loss decreased (0.065625 --> 0.065070).  Saving model ...\n",
            "Epoch: 43 \tTraining Loss: 0.063770 \tValidation Loss: 0.058959 \tValidation Accuracy: 0.989183\n",
            "Validation loss decreased (0.065070 --> 0.058959).  Saving model ...\n",
            "Epoch: 44 \tTraining Loss: 0.064532 \tValidation Loss: 0.051856 \tValidation Accuracy: 0.991587\n",
            "Validation loss decreased (0.058959 --> 0.051856).  Saving model ...\n",
            "Epoch: 45 \tTraining Loss: 0.053329 \tValidation Loss: 0.050107 \tValidation Accuracy: 0.991587\n",
            "Validation loss decreased (0.051856 --> 0.050107).  Saving model ...\n",
            "Epoch: 46 \tTraining Loss: 0.054296 \tValidation Loss: 0.049509 \tValidation Accuracy: 0.991587\n",
            "Validation loss decreased (0.050107 --> 0.049509).  Saving model ...\n",
            "Epoch: 47 \tTraining Loss: 0.063591 \tValidation Loss: 0.049807 \tValidation Accuracy: 0.991587\n",
            "Validation loss decreased (0.049509 --> 0.049807).  Saving model ...\n",
            "Epoch: 48 \tTraining Loss: 0.059255 \tValidation Loss: 0.050303 \tValidation Accuracy: 0.993990\n",
            "Validation loss decreased (0.049807 --> 0.050303).  Saving model ...\n",
            "Epoch: 49 \tTraining Loss: 0.061575 \tValidation Loss: 0.052717 \tValidation Accuracy: 0.990385\n",
            "Validation loss decreased (0.050303 --> 0.052717).  Saving model ...\n",
            "Epoch: 50 \tTraining Loss: 0.069165 \tValidation Loss: 0.067247 \tValidation Accuracy: 0.987981\n",
            "Epoch: 51 \tTraining Loss: 0.067730 \tValidation Loss: 0.072826 \tValidation Accuracy: 0.991587\n",
            "Validation loss decreased (0.052717 --> 0.072826).  Saving model ...\n",
            "Epoch: 52 \tTraining Loss: 0.084907 \tValidation Loss: 0.061551 \tValidation Accuracy: 0.987981\n",
            "Validation loss decreased (0.072826 --> 0.061551).  Saving model ...\n",
            "Epoch: 53 \tTraining Loss: 0.062630 \tValidation Loss: 0.056049 \tValidation Accuracy: 0.993990\n",
            "Validation loss decreased (0.061551 --> 0.056049).  Saving model ...\n",
            "Epoch: 54 \tTraining Loss: 0.067101 \tValidation Loss: 0.052045 \tValidation Accuracy: 0.993990\n",
            "Validation loss decreased (0.056049 --> 0.052045).  Saving model ...\n",
            "Epoch: 55 \tTraining Loss: 0.054186 \tValidation Loss: 0.054790 \tValidation Accuracy: 0.993990\n",
            "Validation loss decreased (0.052045 --> 0.054790).  Saving model ...\n",
            "Epoch: 56 \tTraining Loss: 0.058565 \tValidation Loss: 0.050883 \tValidation Accuracy: 0.995192\n",
            "Validation loss decreased (0.054790 --> 0.050883).  Saving model ...\n",
            "Epoch: 57 \tTraining Loss: 0.054083 \tValidation Loss: 0.054093 \tValidation Accuracy: 0.993990\n",
            "Validation loss decreased (0.050883 --> 0.054093).  Saving model ...\n",
            "Epoch: 58 \tTraining Loss: 0.058970 \tValidation Loss: 0.055062 \tValidation Accuracy: 0.993990\n",
            "Validation loss decreased (0.054093 --> 0.055062).  Saving model ...\n",
            "Epoch: 59 \tTraining Loss: 0.057593 \tValidation Loss: 0.050073 \tValidation Accuracy: 0.995192\n",
            "Validation loss decreased (0.055062 --> 0.050073).  Saving model ...\n",
            "Epoch: 60 \tTraining Loss: 0.063210 \tValidation Loss: 0.049071 \tValidation Accuracy: 0.995192\n",
            "Validation loss decreased (0.050073 --> 0.049071).  Saving model ...\n",
            "Epoch: 61 \tTraining Loss: 0.083664 \tValidation Loss: 0.056421 \tValidation Accuracy: 0.990385\n",
            "Validation loss decreased (0.049071 --> 0.056421).  Saving model ...\n",
            "Epoch: 62 \tTraining Loss: 0.071810 \tValidation Loss: 0.060122 \tValidation Accuracy: 0.986779\n",
            "Epoch: 63 \tTraining Loss: 0.072515 \tValidation Loss: 0.055552 \tValidation Accuracy: 0.989183\n",
            "Validation loss decreased (0.056421 --> 0.055552).  Saving model ...\n",
            "Epoch: 64 \tTraining Loss: 0.049969 \tValidation Loss: 0.051818 \tValidation Accuracy: 0.992788\n",
            "Validation loss decreased (0.055552 --> 0.051818).  Saving model ...\n",
            "Epoch: 65 \tTraining Loss: 0.048025 \tValidation Loss: 0.052210 \tValidation Accuracy: 0.991587\n",
            "Validation loss decreased (0.051818 --> 0.052210).  Saving model ...\n",
            "Epoch: 66 \tTraining Loss: 0.051331 \tValidation Loss: 0.051915 \tValidation Accuracy: 0.991587\n",
            "Validation loss decreased (0.052210 --> 0.051915).  Saving model ...\n",
            "Epoch: 67 \tTraining Loss: 0.051142 \tValidation Loss: 0.052219 \tValidation Accuracy: 0.992788\n",
            "Validation loss decreased (0.051915 --> 0.052219).  Saving model ...\n",
            "Epoch: 68 \tTraining Loss: 0.058747 \tValidation Loss: 0.049161 \tValidation Accuracy: 0.993990\n",
            "Validation loss decreased (0.052219 --> 0.049161).  Saving model ...\n",
            "Epoch: 69 \tTraining Loss: 0.065367 \tValidation Loss: 0.055363 \tValidation Accuracy: 0.991587\n",
            "Validation loss decreased (0.049161 --> 0.055363).  Saving model ...\n",
            "Epoch: 70 \tTraining Loss: 0.075593 \tValidation Loss: 0.065107 \tValidation Accuracy: 0.990385\n",
            "Validation loss decreased (0.055363 --> 0.065107).  Saving model ...\n",
            "Epoch: 71 \tTraining Loss: 0.076806 \tValidation Loss: 0.057847 \tValidation Accuracy: 0.990385\n",
            "Validation loss decreased (0.065107 --> 0.057847).  Saving model ...\n",
            "Epoch: 72 \tTraining Loss: 0.068765 \tValidation Loss: 0.057489 \tValidation Accuracy: 0.993990\n",
            "Validation loss decreased (0.057847 --> 0.057489).  Saving model ...\n",
            "Epoch: 73 \tTraining Loss: 0.077172 \tValidation Loss: 0.051451 \tValidation Accuracy: 0.992788\n",
            "Validation loss decreased (0.057489 --> 0.051451).  Saving model ...\n",
            "Epoch: 74 \tTraining Loss: 0.047583 \tValidation Loss: 0.050126 \tValidation Accuracy: 0.993990\n",
            "Validation loss decreased (0.051451 --> 0.050126).  Saving model ...\n",
            "Epoch: 75 \tTraining Loss: 0.056439 \tValidation Loss: 0.051418 \tValidation Accuracy: 0.993990\n",
            "Validation loss decreased (0.050126 --> 0.051418).  Saving model ...\n",
            "Epoch: 76 \tTraining Loss: 0.053015 \tValidation Loss: 0.053303 \tValidation Accuracy: 0.991587\n",
            "Validation loss decreased (0.051418 --> 0.053303).  Saving model ...\n",
            "Epoch: 77 \tTraining Loss: 0.051540 \tValidation Loss: 0.052427 \tValidation Accuracy: 0.993990\n",
            "Validation loss decreased (0.053303 --> 0.052427).  Saving model ...\n",
            "Epoch: 78 \tTraining Loss: 0.046502 \tValidation Loss: 0.050350 \tValidation Accuracy: 0.991587\n",
            "Validation loss decreased (0.052427 --> 0.050350).  Saving model ...\n",
            "Epoch: 79 \tTraining Loss: 0.051770 \tValidation Loss: 0.048606 \tValidation Accuracy: 0.995192\n",
            "Validation loss decreased (0.050350 --> 0.048606).  Saving model ...\n",
            "Epoch: 80 \tTraining Loss: 0.063967 \tValidation Loss: 0.064688 \tValidation Accuracy: 0.989183\n",
            "Epoch: 81 \tTraining Loss: 0.059257 \tValidation Loss: 0.064710 \tValidation Accuracy: 0.989183\n",
            "Epoch: 82 \tTraining Loss: 0.061895 \tValidation Loss: 0.066923 \tValidation Accuracy: 0.991587\n",
            "Validation loss decreased (0.048606 --> 0.066923).  Saving model ...\n",
            "Epoch: 83 \tTraining Loss: 0.060966 \tValidation Loss: 0.053556 \tValidation Accuracy: 0.992788\n",
            "Validation loss decreased (0.066923 --> 0.053556).  Saving model ...\n",
            "Epoch: 84 \tTraining Loss: 0.057891 \tValidation Loss: 0.054456 \tValidation Accuracy: 0.993990\n",
            "Validation loss decreased (0.053556 --> 0.054456).  Saving model ...\n",
            "Epoch: 85 \tTraining Loss: 0.047808 \tValidation Loss: 0.057935 \tValidation Accuracy: 0.993990\n",
            "Validation loss decreased (0.054456 --> 0.057935).  Saving model ...\n",
            "Epoch: 86 \tTraining Loss: 0.055519 \tValidation Loss: 0.057276 \tValidation Accuracy: 0.991587\n",
            "Validation loss decreased (0.057935 --> 0.057276).  Saving model ...\n",
            "Epoch: 87 \tTraining Loss: 0.054914 \tValidation Loss: 0.055635 \tValidation Accuracy: 0.993990\n",
            "Validation loss decreased (0.057276 --> 0.055635).  Saving model ...\n",
            "Epoch: 88 \tTraining Loss: 0.050400 \tValidation Loss: 0.059229 \tValidation Accuracy: 0.992788\n",
            "Validation loss decreased (0.055635 --> 0.059229).  Saving model ...\n",
            "Epoch: 89 \tTraining Loss: 0.049623 \tValidation Loss: 0.059157 \tValidation Accuracy: 0.991587\n",
            "Validation loss decreased (0.059229 --> 0.059157).  Saving model ...\n",
            "Epoch: 90 \tTraining Loss: 0.062445 \tValidation Loss: 0.061366 \tValidation Accuracy: 0.991587\n",
            "Validation loss decreased (0.059157 --> 0.061366).  Saving model ...\n",
            "Epoch: 91 \tTraining Loss: 0.075441 \tValidation Loss: 0.052717 \tValidation Accuracy: 0.992788\n",
            "Validation loss decreased (0.061366 --> 0.052717).  Saving model ...\n",
            "Epoch: 92 \tTraining Loss: 0.069690 \tValidation Loss: 0.058645 \tValidation Accuracy: 0.991587\n",
            "Validation loss decreased (0.052717 --> 0.058645).  Saving model ...\n",
            "Epoch: 93 \tTraining Loss: 0.058807 \tValidation Loss: 0.046608 \tValidation Accuracy: 0.992788\n",
            "Validation loss decreased (0.058645 --> 0.046608).  Saving model ...\n",
            "Epoch: 94 \tTraining Loss: 0.054075 \tValidation Loss: 0.047428 \tValidation Accuracy: 0.992788\n",
            "Validation loss decreased (0.046608 --> 0.047428).  Saving model ...\n",
            "Epoch: 95 \tTraining Loss: 0.057427 \tValidation Loss: 0.046658 \tValidation Accuracy: 0.992788\n",
            "Validation loss decreased (0.047428 --> 0.046658).  Saving model ...\n",
            "Epoch: 96 \tTraining Loss: 0.046456 \tValidation Loss: 0.048970 \tValidation Accuracy: 0.992788\n",
            "Validation loss decreased (0.046658 --> 0.048970).  Saving model ...\n",
            "Epoch: 97 \tTraining Loss: 0.043124 \tValidation Loss: 0.049382 \tValidation Accuracy: 0.992788\n",
            "Validation loss decreased (0.048970 --> 0.049382).  Saving model ...\n",
            "Epoch: 98 \tTraining Loss: 0.054641 \tValidation Loss: 0.052499 \tValidation Accuracy: 0.993990\n",
            "Validation loss decreased (0.049382 --> 0.052499).  Saving model ...\n",
            "Epoch: 99 \tTraining Loss: 0.060192 \tValidation Loss: 0.051883 \tValidation Accuracy: 0.991587\n",
            "Validation loss decreased (0.052499 --> 0.051883).  Saving model ...\n",
            "Epoch: 100 \tTraining Loss: 0.063353 \tValidation Loss: 0.073793 \tValidation Accuracy: 0.986779\n",
            "Epoch: 101 \tTraining Loss: 0.064467 \tValidation Loss: 0.069450 \tValidation Accuracy: 0.986779\n",
            "Epoch: 102 \tTraining Loss: 0.061111 \tValidation Loss: 0.060883 \tValidation Accuracy: 0.990385\n",
            "Validation loss decreased (0.051883 --> 0.060883).  Saving model ...\n",
            "Epoch: 103 \tTraining Loss: 0.048166 \tValidation Loss: 0.062202 \tValidation Accuracy: 0.989183\n",
            "Epoch: 104 \tTraining Loss: 0.044545 \tValidation Loss: 0.061569 \tValidation Accuracy: 0.987981\n",
            "Epoch: 105 \tTraining Loss: 0.043464 \tValidation Loss: 0.061135 \tValidation Accuracy: 0.990385\n",
            "Validation loss decreased (0.060883 --> 0.061135).  Saving model ...\n",
            "Epoch: 106 \tTraining Loss: 0.037457 \tValidation Loss: 0.060622 \tValidation Accuracy: 0.989183\n",
            "Validation loss decreased (0.061135 --> 0.060622).  Saving model ...\n",
            "Epoch: 107 \tTraining Loss: 0.043563 \tValidation Loss: 0.057889 \tValidation Accuracy: 0.992788\n",
            "Validation loss decreased (0.060622 --> 0.057889).  Saving model ...\n",
            "Epoch: 108 \tTraining Loss: 0.043271 \tValidation Loss: 0.059526 \tValidation Accuracy: 0.989183\n",
            "Epoch: 109 \tTraining Loss: 0.057704 \tValidation Loss: 0.061085 \tValidation Accuracy: 0.989183\n",
            "Epoch: 110 \tTraining Loss: 0.062198 \tValidation Loss: 0.065199 \tValidation Accuracy: 0.987981\n",
            "Epoch: 111 \tTraining Loss: 0.064776 \tValidation Loss: 0.066272 \tValidation Accuracy: 0.985577\n",
            "Epoch: 112 \tTraining Loss: 0.057100 \tValidation Loss: 0.060167 \tValidation Accuracy: 0.990385\n",
            "Validation loss decreased (0.057889 --> 0.060167).  Saving model ...\n",
            "Epoch: 113 \tTraining Loss: 0.051333 \tValidation Loss: 0.063440 \tValidation Accuracy: 0.985577\n",
            "Epoch: 114 \tTraining Loss: 0.049974 \tValidation Loss: 0.055434 \tValidation Accuracy: 0.989183\n",
            "Validation loss decreased (0.060167 --> 0.055434).  Saving model ...\n",
            "Epoch: 115 \tTraining Loss: 0.040534 \tValidation Loss: 0.053442 \tValidation Accuracy: 0.987981\n",
            "Validation loss decreased (0.055434 --> 0.053442).  Saving model ...\n",
            "Epoch: 116 \tTraining Loss: 0.045951 \tValidation Loss: 0.056382 \tValidation Accuracy: 0.987981\n",
            "Epoch: 117 \tTraining Loss: 0.051117 \tValidation Loss: 0.053961 \tValidation Accuracy: 0.990385\n",
            "Validation loss decreased (0.053442 --> 0.053961).  Saving model ...\n",
            "Epoch: 118 \tTraining Loss: 0.034716 \tValidation Loss: 0.063333 \tValidation Accuracy: 0.985577\n",
            "Epoch: 119 \tTraining Loss: 0.054440 \tValidation Loss: 0.058794 \tValidation Accuracy: 0.987981\n",
            "Epoch: 120 \tTraining Loss: 0.052703 \tValidation Loss: 0.074665 \tValidation Accuracy: 0.985577\n",
            "Epoch: 121 \tTraining Loss: 0.059784 \tValidation Loss: 0.069018 \tValidation Accuracy: 0.985577\n",
            "Epoch: 122 \tTraining Loss: 0.065789 \tValidation Loss: 0.064894 \tValidation Accuracy: 0.995192\n",
            "Validation loss decreased (0.053961 --> 0.064894).  Saving model ...\n",
            "Epoch: 123 \tTraining Loss: 0.045554 \tValidation Loss: 0.063518 \tValidation Accuracy: 0.987981\n",
            "Validation loss decreased (0.064894 --> 0.063518).  Saving model ...\n",
            "Epoch: 124 \tTraining Loss: 0.046334 \tValidation Loss: 0.060513 \tValidation Accuracy: 0.990385\n",
            "Validation loss decreased (0.063518 --> 0.060513).  Saving model ...\n",
            "Epoch: 125 \tTraining Loss: 0.047970 \tValidation Loss: 0.059610 \tValidation Accuracy: 0.987981\n",
            "Validation loss decreased (0.060513 --> 0.059610).  Saving model ...\n",
            "Epoch: 126 \tTraining Loss: 0.049963 \tValidation Loss: 0.058378 \tValidation Accuracy: 0.989183\n",
            "Validation loss decreased (0.059610 --> 0.058378).  Saving model ...\n",
            "Epoch: 127 \tTraining Loss: 0.041286 \tValidation Loss: 0.058895 \tValidation Accuracy: 0.989183\n",
            "Epoch: 128 \tTraining Loss: 0.037875 \tValidation Loss: 0.057884 \tValidation Accuracy: 0.989183\n",
            "Validation loss decreased (0.058378 --> 0.057884).  Saving model ...\n",
            "Epoch: 129 \tTraining Loss: 0.041882 \tValidation Loss: 0.063301 \tValidation Accuracy: 0.989183\n",
            "Epoch: 130 \tTraining Loss: 0.043076 \tValidation Loss: 0.056051 \tValidation Accuracy: 0.987981\n",
            "Validation loss decreased (0.057884 --> 0.056051).  Saving model ...\n",
            "Epoch: 131 \tTraining Loss: 0.059601 \tValidation Loss: 0.052703 \tValidation Accuracy: 0.989183\n",
            "Validation loss decreased (0.056051 --> 0.052703).  Saving model ...\n",
            "Epoch: 132 \tTraining Loss: 0.060004 \tValidation Loss: 0.060712 \tValidation Accuracy: 0.986779\n",
            "Epoch: 133 \tTraining Loss: 0.047698 \tValidation Loss: 0.051231 \tValidation Accuracy: 0.993990\n",
            "Validation loss decreased (0.052703 --> 0.051231).  Saving model ...\n",
            "Epoch: 134 \tTraining Loss: 0.040114 \tValidation Loss: 0.058868 \tValidation Accuracy: 0.991587\n",
            "Validation loss decreased (0.051231 --> 0.058868).  Saving model ...\n",
            "Epoch: 135 \tTraining Loss: 0.044879 \tValidation Loss: 0.056091 \tValidation Accuracy: 0.993990\n",
            "Validation loss decreased (0.058868 --> 0.056091).  Saving model ...\n",
            "Epoch: 136 \tTraining Loss: 0.042826 \tValidation Loss: 0.056145 \tValidation Accuracy: 0.991587\n",
            "Validation loss decreased (0.056091 --> 0.056145).  Saving model ...\n",
            "Epoch: 137 \tTraining Loss: 0.041919 \tValidation Loss: 0.055256 \tValidation Accuracy: 0.993990\n",
            "Validation loss decreased (0.056145 --> 0.055256).  Saving model ...\n",
            "Epoch: 138 \tTraining Loss: 0.042371 \tValidation Loss: 0.058502 \tValidation Accuracy: 0.991587\n",
            "Validation loss decreased (0.055256 --> 0.058502).  Saving model ...\n",
            "Epoch: 139 \tTraining Loss: 0.044352 \tValidation Loss: 0.057167 \tValidation Accuracy: 0.991587\n",
            "Validation loss decreased (0.058502 --> 0.057167).  Saving model ...\n",
            "Epoch: 140 \tTraining Loss: 0.060698 \tValidation Loss: 0.061801 \tValidation Accuracy: 0.992788\n",
            "Validation loss decreased (0.057167 --> 0.061801).  Saving model ...\n",
            "Epoch: 141 \tTraining Loss: 0.054032 \tValidation Loss: 0.064036 \tValidation Accuracy: 0.989183\n",
            "Epoch: 142 \tTraining Loss: 0.055316 \tValidation Loss: 0.060793 \tValidation Accuracy: 0.991587\n",
            "Validation loss decreased (0.061801 --> 0.060793).  Saving model ...\n",
            "Epoch: 143 \tTraining Loss: 0.048449 \tValidation Loss: 0.062304 \tValidation Accuracy: 0.987981\n",
            "Epoch: 144 \tTraining Loss: 0.045496 \tValidation Loss: 0.059947 \tValidation Accuracy: 0.990385\n",
            "Validation loss decreased (0.060793 --> 0.059947).  Saving model ...\n",
            "Epoch: 145 \tTraining Loss: 0.042618 \tValidation Loss: 0.062751 \tValidation Accuracy: 0.989183\n",
            "Epoch: 146 \tTraining Loss: 0.037564 \tValidation Loss: 0.061511 \tValidation Accuracy: 0.986779\n",
            "Epoch: 147 \tTraining Loss: 0.045207 \tValidation Loss: 0.059152 \tValidation Accuracy: 0.990385\n",
            "Validation loss decreased (0.059947 --> 0.059152).  Saving model ...\n",
            "Epoch: 148 \tTraining Loss: 0.041529 \tValidation Loss: 0.054173 \tValidation Accuracy: 0.992788\n",
            "Validation loss decreased (0.059152 --> 0.054173).  Saving model ...\n",
            "Epoch: 149 \tTraining Loss: 0.033474 \tValidation Loss: 0.055118 \tValidation Accuracy: 0.989183\n",
            "Epoch: 150 \tTraining Loss: 0.046275 \tValidation Loss: 0.053555 \tValidation Accuracy: 0.992788\n",
            "Validation loss decreased (0.054173 --> 0.053555).  Saving model ...\n"
          ],
          "name": "stdout"
        }
      ]
    },
    {
      "metadata": {
        "id": "gc8uiyfljSq7",
        "colab_type": "text"
      },
      "cell_type": "markdown",
      "source": [
        "## Load the checkpoint and make predictions against test data\n",
        "\n",
        "At this point it's good to write a function that can load a checkpoint and rebuild the model. That way you can come back to this project and keep working on it without having to retrain the network."
      ]
    },
    {
      "metadata": {
        "id": "QhXY_7Zr6AgZ",
        "colab_type": "code",
        "colab": {}
      },
      "cell_type": "code",
      "source": [
        "# Use GPU if it's available\n",
        "device = torch.device(\"cuda\" if torch.cuda.is_available() else \"cpu\")\n",
        "\n",
        "model = models.resnet152(pretrained=False)\n",
        "\n",
        "# # Freeze parameters so we don't backprop through them\n",
        "# for param in model.parameters():\n",
        "#     param.requires_grad = False\n",
        "    \n",
        "model.fc = nn.Sequential(nn.Linear(2048, 1024),\n",
        "                                 nn.ReLU(),\n",
        "                                 nn.BatchNorm1d(1024),\n",
        "                                 nn.Dropout(0.3),\n",
        "                                 nn.Linear(1024, 102))\n",
        "\n",
        "# load model parameters\n",
        "# checkpoint = torch.load('/content/drive/My Drive/Colab Notebooks/classifier_resnet152_v1.pt')\n",
        "checkpoint = torch.load('/content/drive/My Drive/Colab Notebooks/classifier_resnet152_v1_ft_v5_0.04897_0.992788.pt')\n",
        "model.load_state_dict(checkpoint)\n",
        "\n",
        "# # Freeze first three layers parameters so we don't backprop through them\n",
        "# ct = 0\n",
        "# for child in model.children():\n",
        "#     ct+= 1\n",
        "#     if ct < 8:\n",
        "#         for param in child.parameters():\n",
        "#             param.requires_grad = False\n",
        "\n",
        "\n",
        "# criterion = nn.CrossEntropyLoss()\n",
        "\n",
        "# # Only train the unfrozen parameters, feature parameters are frozen\n",
        "# optimizer = optim.Adam(filter(lambda p: p.requires_grad, model.parameters()), lr=0.000005)\n",
        "\n",
        "# # Decay LR by a factor of 0.1 every 7 epochs\n",
        "# # exp_lr_scheduler = lr_scheduler.StepLR(optimizer, step_size = 7, gamma = 0.2)\n",
        "\n",
        "# pla_lr_scheduler = lr_scheduler.ReduceLROnPlateau(optimizer, mode='min', patience=5)\n",
        "\n",
        "model.to(device);\n"
      ],
      "execution_count": 0,
      "outputs": []
    },
    {
      "metadata": {
        "id": "MB_1KGYHjSrE",
        "colab_type": "code",
        "colab": {}
      },
      "cell_type": "code",
      "source": [
        "# # TODO: Write a function that loads a checkpoint and rebuilds the model\n",
        "# model.load_state_dict(torch.load('/content/drive/My Drive/Colab Notebooks/classifier_resnet152_v1_ft_v5_0.048606_0.995192.pt'))"
      ],
      "execution_count": 0,
      "outputs": []
    },
    {
      "metadata": {
        "id": "aE-7qyBU3a4X",
        "colab_type": "code",
        "colab": {}
      },
      "cell_type": "code",
      "source": [
        "data_dir = '/content/drive/My Drive/flower_data'\n",
        "test_dir = data_dir + '/test'"
      ],
      "execution_count": 0,
      "outputs": []
    },
    {
      "metadata": {
        "id": "m51Ocu5s3YrM",
        "colab_type": "code",
        "colab": {}
      },
      "cell_type": "code",
      "source": [
        "test_transforms = transforms.Compose([transforms.Resize(255),\n",
        "                                      transforms.CenterCrop(224),\n",
        "                                      transforms.ToTensor(),\n",
        "                                      transforms.Normalize([0.485, 0.456, 0.406],\n",
        "                                                           [0.229, 0.224, 0.225])])\n",
        "\n",
        "# Pass transforms in here, then run the next cell to see how the transforms look\n",
        "test_data = datasets.ImageFolder(test_dir, transform=test_transforms)\n",
        "\n",
        "testloader = torch.utils.data.DataLoader(test_data, batch_size=16)"
      ],
      "execution_count": 0,
      "outputs": []
    },
    {
      "metadata": {
        "id": "W-B8rY0U4OGY",
        "colab_type": "code",
        "colab": {
          "base_uri": "https://localhost:8080/",
          "height": 34
        },
        "outputId": "8d9c803b-bce1-4916-b294-fb831d39ceb9"
      },
      "cell_type": "code",
      "source": [
        "datasloader = testloader\n",
        "\n",
        "######################    \n",
        "# test the model with extra testing data#\n",
        "######################\n",
        "model.eval() # prep model for evaluation\n",
        "accuracy = 0\n",
        "test_loss = 0\n",
        "for data, target in datasloader:\n",
        "    data, target = data.to(device), target.to(device)\n",
        "    # forward pass: compute predicted outputs by passing inputs to the model\n",
        "    output = model(data)\n",
        "    # calculate the loss\n",
        "#     loss = criterion(output, target)\n",
        "    # update running validation loss \n",
        "#     test_loss += loss.item()*data.size(0)\n",
        "\n",
        "    ps = torch.exp(output)\n",
        "    top_p, top_class = ps.topk(1, dim=1)\n",
        "    equals = top_class == target.view(*top_class.shape)\n",
        "    accuracy += torch.mean(equals.type(torch.FloatTensor)).item()\n",
        "\n",
        "# calculate average loss for teat data\n",
        "# test_loss = test_loss/len(datasloader.dataset)\n",
        "accuracy = accuracy/len(datasloader)\n",
        "\n",
        "print('Test Accuracy: {:.6f}'.format(accuracy))\n",
        "\n"
      ],
      "execution_count": 27,
      "outputs": [
        {
          "output_type": "stream",
          "text": [
            "Test Accuracy: 0.990385\n"
          ],
          "name": "stdout"
        }
      ]
    },
    {
      "metadata": {
        "id": "D_3rEtawzeXx",
        "colab_type": "code",
        "colab": {
          "base_uri": "https://localhost:8080/",
          "height": 54
        },
        "outputId": "cab647a0-f62c-4cbf-e88b-16d2e8221558"
      },
      "cell_type": "code",
      "source": [
        "import os\n",
        "print(os.listdir('/content/drive/My Drive/Colab Notebooks/'))"
      ],
      "execution_count": 5,
      "outputs": [
        {
          "output_type": "stream",
          "text": [
            "['cat_to_name.json', 'Image_Classifier_Project_with_Colab_resnet152.ipynb', 'classifier_resnet152_v1_ft_v5_0.059610_0.987981.pt', 'Untitled folder', 'classifier_resnet152_v1_ft_v1.pt', 'classifier_resnet152_v1_ft_v1_1.pt', 'classifier_resnet152_v1_ft_v2_1.pt', 'classifier_resnet152_v1_ft_v2_2.pt', 'classifier_resnet152_v1_ft_v2_3.pt', 'classifier_resnet152_v1_ft_v2_4.pt', 'classifier_resnet152_v1_ft_v3_1.pt', 'classifier_resnet152_v1_ft_v3_2.pt', 'classifier_resnet152_v1_ft_v4_0.992788.pt', 'classifier_resnet152_v1_ft_v4_0.993990.pt', 'classifier_resnet152_v1_ft_v5_0.045784_0.992788.pt', 'classifier_resnet152_v1_ft_v5_0.045902_0.995192.pt', 'classifier_resnet152_v1_ft_v5_0.048025_0.991587.pt', 'classifier_resnet152_v1_ft_v5_0.048763_0.992788.pt', 'classifier_resnet152_v1_ft_v5_0.049071_0.995192.pt', 'classifier_resnet152_v1_ft_v5_0.049509_0.991587.pt', 'classifier_resnet152_v1_ft_v5_0.050073_0.995192.pt', 'classifier_resnet152_v1_ft_v5_0.050303_0.993990.pt', 'classifier_resnet152_v1_ft_v5_0.051781_0.992788.pt', 'classifier_resnet152_v1_ft_v5_0.051818_0.992788.pt', 'classifier_resnet152_v1_ft_v5_0.051915_0.991587.pt', 'classifier_resnet152_v1_ft_v5_0.054093_0.993990.pt', 'classifier_resnet152_v1_ft_v5_0.054790_0.993990.pt', 'classifier_resnet152_v1_ft_v5_0.055062_0.993990.pt', 'classifier_resnet152_v1_ft_v5_0.056049_0.993990.pt', 'classifier_resnet152_v1_ft_v5_0.058608_0.993990.pt', 'classifier_resnet152_v1_ft_v5_0.061093_0.991587.pt', 'classifier_resnet152_v1_ft_v5_0.072826_0.991587.pt']\n"
          ],
          "name": "stdout"
        }
      ]
    },
    {
      "metadata": {
        "id": "ETC8WdMAzehJ",
        "colab_type": "code",
        "colab": {
          "base_uri": "https://localhost:8080/",
          "height": 54
        },
        "outputId": "096d4fc9-271a-417c-9488-e3556ba16c71"
      },
      "cell_type": "code",
      "source": [
        "checkpointdir = '/content/drive/My Drive/Colab Notebooks/'\n",
        "checkpointpathlist = []\n",
        "for file in os.listdir(checkpointdir):\n",
        "    if file.endswith('.pt'):\n",
        "#         print(os.path.join(checkpointdir, file))\n",
        "        checkpointpathlist.append(os.path.join(checkpointdir, file))\n",
        "print(checkpointpathlist)"
      ],
      "execution_count": 6,
      "outputs": [
        {
          "output_type": "stream",
          "text": [
            "['/content/drive/My Drive/Colab Notebooks/classifier_resnet152_v1_ft_v5_0.059610_0.987981.pt', '/content/drive/My Drive/Colab Notebooks/classifier_resnet152_v1_ft_v1.pt', '/content/drive/My Drive/Colab Notebooks/classifier_resnet152_v1_ft_v1_1.pt', '/content/drive/My Drive/Colab Notebooks/classifier_resnet152_v1_ft_v2_1.pt', '/content/drive/My Drive/Colab Notebooks/classifier_resnet152_v1_ft_v2_2.pt', '/content/drive/My Drive/Colab Notebooks/classifier_resnet152_v1_ft_v2_3.pt', '/content/drive/My Drive/Colab Notebooks/classifier_resnet152_v1_ft_v2_4.pt', '/content/drive/My Drive/Colab Notebooks/classifier_resnet152_v1_ft_v3_1.pt', '/content/drive/My Drive/Colab Notebooks/classifier_resnet152_v1_ft_v3_2.pt', '/content/drive/My Drive/Colab Notebooks/classifier_resnet152_v1_ft_v4_0.992788.pt', '/content/drive/My Drive/Colab Notebooks/classifier_resnet152_v1_ft_v4_0.993990.pt', '/content/drive/My Drive/Colab Notebooks/classifier_resnet152_v1_ft_v5_0.045784_0.992788.pt', '/content/drive/My Drive/Colab Notebooks/classifier_resnet152_v1_ft_v5_0.045902_0.995192.pt', '/content/drive/My Drive/Colab Notebooks/classifier_resnet152_v1_ft_v5_0.048025_0.991587.pt', '/content/drive/My Drive/Colab Notebooks/classifier_resnet152_v1_ft_v5_0.048763_0.992788.pt', '/content/drive/My Drive/Colab Notebooks/classifier_resnet152_v1_ft_v5_0.049071_0.995192.pt', '/content/drive/My Drive/Colab Notebooks/classifier_resnet152_v1_ft_v5_0.049509_0.991587.pt', '/content/drive/My Drive/Colab Notebooks/classifier_resnet152_v1_ft_v5_0.050073_0.995192.pt', '/content/drive/My Drive/Colab Notebooks/classifier_resnet152_v1_ft_v5_0.050303_0.993990.pt', '/content/drive/My Drive/Colab Notebooks/classifier_resnet152_v1_ft_v5_0.051781_0.992788.pt', '/content/drive/My Drive/Colab Notebooks/classifier_resnet152_v1_ft_v5_0.051818_0.992788.pt', '/content/drive/My Drive/Colab Notebooks/classifier_resnet152_v1_ft_v5_0.051915_0.991587.pt', '/content/drive/My Drive/Colab Notebooks/classifier_resnet152_v1_ft_v5_0.054093_0.993990.pt', '/content/drive/My Drive/Colab Notebooks/classifier_resnet152_v1_ft_v5_0.054790_0.993990.pt', '/content/drive/My Drive/Colab Notebooks/classifier_resnet152_v1_ft_v5_0.055062_0.993990.pt', '/content/drive/My Drive/Colab Notebooks/classifier_resnet152_v1_ft_v5_0.056049_0.993990.pt', '/content/drive/My Drive/Colab Notebooks/classifier_resnet152_v1_ft_v5_0.058608_0.993990.pt', '/content/drive/My Drive/Colab Notebooks/classifier_resnet152_v1_ft_v5_0.061093_0.991587.pt', '/content/drive/My Drive/Colab Notebooks/classifier_resnet152_v1_ft_v5_0.072826_0.991587.pt']\n"
          ],
          "name": "stdout"
        }
      ]
    },
    {
      "metadata": {
        "id": "z6U_v4-G2FJ4",
        "colab_type": "code",
        "colab": {}
      },
      "cell_type": "code",
      "source": [
        "data_dir = '/content/drive/My Drive/flower_data'\n",
        "test_dir = data_dir + '/test'\n",
        "\n",
        "test_transforms = transforms.Compose([transforms.Resize(255),\n",
        "                                      transforms.CenterCrop(224),\n",
        "                                      transforms.ToTensor(),\n",
        "                                      transforms.Normalize([0.485, 0.456, 0.406],\n",
        "                                                           [0.229, 0.224, 0.225])])\n",
        "\n",
        "# Pass transforms in here, then run the next cell to see how the transforms look\n",
        "test_data = datasets.ImageFolder(test_dir, transform=test_transforms)\n",
        "\n",
        "testloader = torch.utils.data.DataLoader(test_data, batch_size=16)"
      ],
      "execution_count": 0,
      "outputs": []
    },
    {
      "metadata": {
        "id": "klsO7IJ3zep8",
        "colab_type": "code",
        "colab": {
          "base_uri": "https://localhost:8080/",
          "height": 510
        },
        "outputId": "fbd7682b-025d-4513-936b-05e5f51d04f8"
      },
      "cell_type": "code",
      "source": [
        "device = torch.device(\"cuda\" if torch.cuda.is_available() else \"cpu\")\n",
        "for checkpointpath in checkpointpathlist:\n",
        "    \n",
        "\n",
        "    model = models.resnet152(pretrained=False)\n",
        "    model.fc = nn.Sequential(nn.Linear(2048, 1024),\n",
        "                                     nn.ReLU(),\n",
        "                                     nn.BatchNorm1d(1024),\n",
        "                                     nn.Dropout(0.3),\n",
        "                                     nn.Linear(1024, 102))\n",
        "    checkpoint = torch.load(checkpointpath)\n",
        "    model.load_state_dict(checkpoint)\n",
        "    model.to(device)\n",
        "    \n",
        "    datasloader = testloader\n",
        "\n",
        "    ######################    \n",
        "    # test the model with extra testing data#\n",
        "    ######################\n",
        "    model.eval() # prep model for evaluation\n",
        "    accuracy = 0\n",
        "    for data, target in datasloader:\n",
        "        data, target = data.to(device), target.to(device)\n",
        "        # forward pass: compute predicted outputs by passing inputs to the model\n",
        "        output = model(data)\n",
        "\n",
        "        ps = torch.exp(output)\n",
        "        top_p, top_class = ps.topk(1, dim=1)\n",
        "        equals = top_class == target.view(*top_class.shape)\n",
        "        accuracy += torch.sum(equals.type(torch.FloatTensor)).item()\n",
        "\n",
        "    # calculate average loss for teat data\n",
        "    # test_loss = test_loss/len(datasloader.dataset)\n",
        "    accuracy = accuracy/len(test_data)\n",
        "\n",
        "    print('Testing Accuracy: {:.6f} \\t'.format(accuracy) + checkpointpath)\n",
        "    \n",
        "    "
      ],
      "execution_count": 8,
      "outputs": [
        {
          "output_type": "stream",
          "text": [
            "Testing Accuracy: 0.995116 \t/content/drive/My Drive/Colab Notebooks/classifier_resnet152_v1_ft_v5_0.059610_0.987981.pt\n",
            "Testing Accuracy: 0.984127 \t/content/drive/My Drive/Colab Notebooks/classifier_resnet152_v1_ft_v1.pt\n",
            "Testing Accuracy: 0.984127 \t/content/drive/My Drive/Colab Notebooks/classifier_resnet152_v1_ft_v1_1.pt\n",
            "Testing Accuracy: 0.984127 \t/content/drive/My Drive/Colab Notebooks/classifier_resnet152_v1_ft_v2_1.pt\n",
            "Testing Accuracy: 0.982906 \t/content/drive/My Drive/Colab Notebooks/classifier_resnet152_v1_ft_v2_2.pt\n",
            "Testing Accuracy: 0.984127 \t/content/drive/My Drive/Colab Notebooks/classifier_resnet152_v1_ft_v2_3.pt\n",
            "Testing Accuracy: 0.984127 \t/content/drive/My Drive/Colab Notebooks/classifier_resnet152_v1_ft_v2_4.pt\n",
            "Testing Accuracy: 0.985348 \t/content/drive/My Drive/Colab Notebooks/classifier_resnet152_v1_ft_v3_1.pt\n",
            "Testing Accuracy: 0.985348 \t/content/drive/My Drive/Colab Notebooks/classifier_resnet152_v1_ft_v3_2.pt\n",
            "Testing Accuracy: 0.989011 \t/content/drive/My Drive/Colab Notebooks/classifier_resnet152_v1_ft_v4_0.992788.pt\n",
            "Testing Accuracy: 0.982906 \t/content/drive/My Drive/Colab Notebooks/classifier_resnet152_v1_ft_v4_0.993990.pt\n",
            "Testing Accuracy: 0.989011 \t/content/drive/My Drive/Colab Notebooks/classifier_resnet152_v1_ft_v5_0.045784_0.992788.pt\n",
            "Testing Accuracy: 0.991453 \t/content/drive/My Drive/Colab Notebooks/classifier_resnet152_v1_ft_v5_0.045902_0.995192.pt\n",
            "Testing Accuracy: 0.989011 \t/content/drive/My Drive/Colab Notebooks/classifier_resnet152_v1_ft_v5_0.048025_0.991587.pt\n",
            "Testing Accuracy: 0.991453 \t/content/drive/My Drive/Colab Notebooks/classifier_resnet152_v1_ft_v5_0.048763_0.992788.pt\n",
            "Testing Accuracy: 0.984127 \t/content/drive/My Drive/Colab Notebooks/classifier_resnet152_v1_ft_v5_0.049071_0.995192.pt\n",
            "Testing Accuracy: 0.990232 \t/content/drive/My Drive/Colab Notebooks/classifier_resnet152_v1_ft_v5_0.049509_0.991587.pt\n",
            "Testing Accuracy: 0.990232 \t/content/drive/My Drive/Colab Notebooks/classifier_resnet152_v1_ft_v5_0.050073_0.995192.pt\n",
            "Testing Accuracy: 0.991453 \t/content/drive/My Drive/Colab Notebooks/classifier_resnet152_v1_ft_v5_0.050303_0.993990.pt\n",
            "Testing Accuracy: 0.990232 \t/content/drive/My Drive/Colab Notebooks/classifier_resnet152_v1_ft_v5_0.051781_0.992788.pt\n",
            "Testing Accuracy: 0.989011 \t/content/drive/My Drive/Colab Notebooks/classifier_resnet152_v1_ft_v5_0.051818_0.992788.pt\n",
            "Testing Accuracy: 0.989011 \t/content/drive/My Drive/Colab Notebooks/classifier_resnet152_v1_ft_v5_0.051915_0.991587.pt\n",
            "Testing Accuracy: 0.989011 \t/content/drive/My Drive/Colab Notebooks/classifier_resnet152_v1_ft_v5_0.054093_0.993990.pt\n",
            "Testing Accuracy: 0.990232 \t/content/drive/My Drive/Colab Notebooks/classifier_resnet152_v1_ft_v5_0.054790_0.993990.pt\n",
            "Testing Accuracy: 0.991453 \t/content/drive/My Drive/Colab Notebooks/classifier_resnet152_v1_ft_v5_0.055062_0.993990.pt\n",
            "Testing Accuracy: 0.989011 \t/content/drive/My Drive/Colab Notebooks/classifier_resnet152_v1_ft_v5_0.056049_0.993990.pt\n",
            "Testing Accuracy: 0.985348 \t/content/drive/My Drive/Colab Notebooks/classifier_resnet152_v1_ft_v5_0.058608_0.993990.pt\n",
            "Testing Accuracy: 0.990232 \t/content/drive/My Drive/Colab Notebooks/classifier_resnet152_v1_ft_v5_0.061093_0.991587.pt\n",
            "Testing Accuracy: 0.990232 \t/content/drive/My Drive/Colab Notebooks/classifier_resnet152_v1_ft_v5_0.072826_0.991587.pt\n"
          ],
          "name": "stdout"
        }
      ]
    },
    {
      "metadata": {
        "id": "6x6mwjpZcsJH",
        "colab_type": "code",
        "colab": {}
      },
      "cell_type": "code",
      "source": [
        ""
      ],
      "execution_count": 0,
      "outputs": []
    },
    {
      "metadata": {
        "id": "elvOF46rjSrb",
        "colab_type": "text"
      },
      "cell_type": "markdown",
      "source": [
        "# Inference for classification\n",
        "\n",
        "Now you'll write a function to use a trained network for inference. That is, you'll pass an image into the network and predict the class of the flower in the image. Write a function called `predict` that takes an image and a model, then returns the top $K$ most likely classes along with the probabilities. It should look like \n",
        "\n",
        "```python\n",
        "probs, classes = predict(image_path, model)\n",
        "print(probs)\n",
        "print(classes)\n",
        "> [ 0.01558163  0.01541934  0.01452626  0.01443549  0.01407339]\n",
        "> ['70', '3', '45', '62', '55']\n",
        "```\n",
        "\n",
        "First you'll need to handle processing the input image such that it can be used in your network. \n",
        "\n",
        "## Image Preprocessing\n",
        "\n",
        "You'll want to use `PIL` to load the image ([documentation](https://pillow.readthedocs.io/en/latest/reference/Image.html)). It's best to write a function that preprocesses the image so it can be used as input for the model. This function should process the images in the same manner used for training. \n",
        "\n",
        "First, resize the images where the shortest side is 256 pixels, keeping the aspect ratio. This can be done with the [`thumbnail`](http://pillow.readthedocs.io/en/3.1.x/reference/Image.html#PIL.Image.Image.thumbnail) or [`resize`](http://pillow.readthedocs.io/en/3.1.x/reference/Image.html#PIL.Image.Image.thumbnail) methods. Then you'll need to crop out the center 224x224 portion of the image.\n",
        "\n",
        "Color channels of images are typically encoded as integers 0-255, but the model expected floats 0-1. You'll need to convert the values. It's easiest with a Numpy array, which you can get from a PIL image like so `np_image = np.array(pil_image)`.\n",
        "\n",
        "As before, the network expects the images to be normalized in a specific way. For the means, it's `[0.485, 0.456, 0.406]` and for the standard deviations `[0.229, 0.224, 0.225]`. You'll want to subtract the means from each color channel, then divide by the standard deviation. \n",
        "\n",
        "And finally, PyTorch expects the color channel to be the first dimension but it's the third dimension in the PIL image and Numpy array. You can reorder dimensions using [`ndarray.transpose`](https://docs.scipy.org/doc/numpy-1.13.0/reference/generated/numpy.ndarray.transpose.html). The color channel needs to be first and retain the order of the other two dimensions."
      ]
    },
    {
      "metadata": {
        "id": "Mua1zkN1jSrr",
        "colab_type": "code",
        "colab": {}
      },
      "cell_type": "code",
      "source": [
        "def process_image(image):\n",
        "    ''' Scales, crops, and normalizes a PIL image for a PyTorch model,\n",
        "        returns an Numpy array\n",
        "    '''\n",
        "    \n",
        "    # TODO: Process a PIL image for use in a PyTorch model"
      ],
      "execution_count": 0,
      "outputs": []
    },
    {
      "metadata": {
        "id": "mRmSnrbzjSr4",
        "colab_type": "text"
      },
      "cell_type": "markdown",
      "source": [
        "To check your work, the function below converts a PyTorch tensor and displays it in the notebook. If your `process_image` function works, running the output through this function should return the original image (except for the cropped out portions)."
      ]
    },
    {
      "metadata": {
        "id": "uQaKs351jSr6",
        "colab_type": "code",
        "colab": {}
      },
      "cell_type": "code",
      "source": [
        "def imshow(image, ax=None, title=None):\n",
        "    \"\"\"Imshow for Tensor.\"\"\"\n",
        "    if ax is None:\n",
        "        fig, ax = plt.subplots()\n",
        "    \n",
        "    # PyTorch tensors assume the color channel is the first dimension\n",
        "    # but matplotlib assumes is the third dimension\n",
        "    image = image.numpy().transpose((1, 2, 0))\n",
        "    \n",
        "    # Undo preprocessing\n",
        "    mean = np.array([0.485, 0.456, 0.406])\n",
        "    std = np.array([0.229, 0.224, 0.225])\n",
        "    image = std * image + mean\n",
        "    \n",
        "    # Image needs to be clipped between 0 and 1 or it looks like noise when displayed\n",
        "    image = np.clip(image, 0, 1)\n",
        "    \n",
        "    ax.imshow(image)\n",
        "    \n",
        "    return ax"
      ],
      "execution_count": 0,
      "outputs": []
    },
    {
      "metadata": {
        "id": "uNExm1EijSsF",
        "colab_type": "text"
      },
      "cell_type": "markdown",
      "source": [
        "## Class Prediction\n",
        "\n",
        "Once you can get images in the correct format, it's time to write a function for making predictions with your model. A common practice is to predict the top 5 or so (usually called top-$K$) most probable classes. You'll want to calculate the class probabilities then find the $K$ largest values.\n",
        "\n",
        "To get the top $K$ largest values in a tensor use [`x.topk(k)`](http://pytorch.org/docs/master/torch.html#torch.topk). This method returns both the highest `k` probabilities and the indices of those probabilities corresponding to the classes. You need to convert from these indices to the actual class labels using `class_to_idx` which hopefully you added to the model or from an `ImageFolder` you used to load the data ([see here](#Save-the-checkpoint)). Make sure to invert the dictionary so you get a mapping from index to class as well.\n",
        "\n",
        "Again, this method should take a path to an image and a model checkpoint, then return the probabilities and classes.\n",
        "\n",
        "```python\n",
        "probs, classes = predict(image_path, model)\n",
        "print(probs)\n",
        "print(classes)\n",
        "> [ 0.01558163  0.01541934  0.01452626  0.01443549  0.01407339]\n",
        "> ['70', '3', '45', '62', '55']\n",
        "```"
      ]
    },
    {
      "metadata": {
        "id": "UPSXQdtfjSsJ",
        "colab_type": "code",
        "colab": {}
      },
      "cell_type": "code",
      "source": [
        "def predict(image_path, model, topk=5):\n",
        "    ''' Predict the class (or classes) of an image using a trained deep learning model.\n",
        "    '''\n",
        "    \n",
        "    # TODO: Implement the code to predict the class from an image file"
      ],
      "execution_count": 0,
      "outputs": []
    },
    {
      "metadata": {
        "id": "_UEIdPK7jSsZ",
        "colab_type": "text"
      },
      "cell_type": "markdown",
      "source": [
        "## Sanity Checking\n",
        "\n",
        "Now that you can use a trained model for predictions, check to make sure it makes sense. Even if the validation accuracy is high, it's always good to check that there aren't obvious bugs. Use `matplotlib` to plot the probabilities for the top 5 classes as a bar graph, along with the input image. It should look like this:\n",
        "\n",
        "<img src='assets/inference_example.png' width=300px>\n",
        "\n",
        "You can convert from the class integer encoding to actual flower names with the `cat_to_name.json` file (should have been loaded earlier in the notebook). To show a PyTorch tensor as an image, use the `imshow` function defined above."
      ]
    },
    {
      "metadata": {
        "id": "vetnIe3yjSsf",
        "colab_type": "code",
        "colab": {}
      },
      "cell_type": "code",
      "source": [
        "# TODO: Display an image along with the top 5 classes"
      ],
      "execution_count": 0,
      "outputs": []
    }
  ]
}